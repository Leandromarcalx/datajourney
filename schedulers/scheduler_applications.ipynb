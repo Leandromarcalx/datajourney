{
 "cells": [
  {
   "cell_type": "code",
   "execution_count": null,
   "metadata": {},
   "outputs": [],
   "source": [
    "import schedule\n",
    "import time\n",
    "import subprocess"
   ]
  },
  {
   "cell_type": "code",
   "execution_count": null,
   "metadata": {},
   "outputs": [],
   "source": [
    "\n",
    "def run_script():\n",
    "    try:\n",
    "        subprocess.call([r\"C:\\Users\\Cliente\\AppData\\Local\\Microsoft\\WindowsApps\\python.exe\", r\"C:\\Users\\Cliente\\Desktop\\Satori\\git\\datajourney\\code_1.py\"])\n",
    "    except Exception as e:\n",
    "        print (\"An error ocurred: \", e)\n",
    "\n",
    "\n",
    "schedule.every().day.at(\"22:57\").do(run_script)\n",
    "schedule.every().minute.do(run_script)\n",
    "\n",
    "print(schedule.jobs)\n",
    "while True:\n",
    "    schedule.run_pending()\n",
    "    time.sleep(60)\n",
    "    "
   ]
  }
 ],
 "metadata": {
  "kernelspec": {
   "display_name": "Python 3",
   "language": "python",
   "name": "python3"
  },
  "language_info": {
   "codemirror_mode": {
    "name": "ipython",
    "version": 3
   },
   "file_extension": ".py",
   "mimetype": "text/x-python",
   "name": "python",
   "nbconvert_exporter": "python",
   "pygments_lexer": "ipython3",
   "version": "3.12.3"
  }
 },
 "nbformat": 4,
 "nbformat_minor": 2
}
